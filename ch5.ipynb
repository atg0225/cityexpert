{
 "cells": [
  {
   "cell_type": "code",
   "execution_count": 1,
   "id": "8578d81a",
   "metadata": {},
   "outputs": [
    {
     "name": "stdout",
     "output_type": "stream",
     "text": [
      "3\n",
      "7\n"
     ]
    }
   ],
   "source": [
    "# 클래스\n",
    "# 클래스가 필요한 이유\n",
    "result = 0\n",
    "\n",
    "def adder(num) :\n",
    "    global result\n",
    "    result += num\n",
    "    return result\n",
    "\n",
    "print(adder(3)) # 3\n",
    "print(adder(4)) # 7"
   ]
  },
  {
   "cell_type": "code",
   "execution_count": 2,
   "id": "dbe215bb",
   "metadata": {},
   "outputs": [
    {
     "name": "stdout",
     "output_type": "stream",
     "text": [
      "3\n",
      "7\n",
      "3\n",
      "10\n"
     ]
    }
   ],
   "source": [
    "# 한 프로그램에서 2개의 계산기가 필요한 상황\n",
    "result1 = 0\n",
    "result2 = 0\n",
    "\n",
    "def adder1(num) :\n",
    "    global result1\n",
    "    result1 += num\n",
    "    return result1\n",
    "def adder2(num) :\n",
    "    global result2\n",
    "    result2 += num\n",
    "    return result2\n",
    "\n",
    "print(adder1(3)) # 3\n",
    "print(adder1(4)) # 7\n",
    "print(adder2(3)) # 3\n",
    "print(adder2(7)) # 10"
   ]
  },
  {
   "cell_type": "code",
   "execution_count": 3,
   "id": "d6a1d842",
   "metadata": {},
   "outputs": [
    {
     "name": "stdout",
     "output_type": "stream",
     "text": [
      "3\n",
      "7\n",
      "3\n",
      "10\n"
     ]
    }
   ],
   "source": [
    "# 클래스 이용\n",
    "class Calculator :\n",
    "    def __init__(self) :\n",
    "        self.result = 0\n",
    "\n",
    "    def adder(self, num) :\n",
    "        self.result += num\n",
    "        return self.result\n",
    "\n",
    "cal1 = Calculator()\n",
    "cal2 = Calculator()\n",
    "\n",
    "print(cal1.adder(3)) # 3\n",
    "print(cal1.adder(4)) # 7\n",
    "print(cal2.adder(3)) # 3\n",
    "print(cal2.adder(7)) # 10"
   ]
  },
  {
   "cell_type": "code",
   "execution_count": 4,
   "id": "0741b51b",
   "metadata": {},
   "outputs": [
    {
     "name": "stdout",
     "output_type": "stream",
     "text": [
      "영구는 배꼽이 두 개다.\n"
     ]
    }
   ],
   "source": [
    "# 클래스의 가장 간단한 예\n",
    "class Simple :\n",
    "    pass\n",
    "\n",
    "a = Simple()\n",
    "\n",
    "# 클래스 변수\n",
    "class Service :\n",
    "    secret = '영구는 배꼽이 두 개다.'\n",
    "\n",
    "pey = Service()\n",
    "print(pey.secret) # '영구는 배꼽이 두 개다.'"
   ]
  },
  {
   "cell_type": "code",
   "execution_count": 5,
   "id": "1cc22ee2",
   "metadata": {},
   "outputs": [
    {
     "name": "stdout",
     "output_type": "stream",
     "text": [
      "1 + 1 = 2입니다.\n"
     ]
    }
   ],
   "source": [
    "# 클래스 함수\n",
    "class Service :\n",
    "    secret = '영구는 배꼽이 두 개다.'\n",
    "    def sum(self, a, b) :\n",
    "        result = a + b\n",
    "        print('%s + %s = %s입니다.' % (a, b, result))\n",
    "\n",
    "pey = Service()\n",
    "pey.sum(1, 1)"
   ]
  },
  {
   "cell_type": "code",
   "execution_count": 6,
   "id": "2d61ae5a",
   "metadata": {},
   "outputs": [
    {
     "name": "stdout",
     "output_type": "stream",
     "text": [
      "홍길동님 1 + 1 = 2입니다.\n"
     ]
    }
   ],
   "source": [
    "# self 제대로 알기\n",
    "class Service :\n",
    "    secret = '영구는 배꼽이 두 개다.'\n",
    "    def setname(self, name) :\n",
    "        self.name = name\n",
    "    def sum(self, a, b) :\n",
    "        result = a + b\n",
    "        print('%s님 %s + %s = %s입니다.' %(self.name, a, b, result))\n",
    "\n",
    "pey = Service()\n",
    "pey.setname('홍길동')\n",
    "pey.sum(1, 1)"
   ]
  },
  {
   "cell_type": "code",
   "execution_count": 7,
   "id": "5dc958fe",
   "metadata": {},
   "outputs": [
    {
     "name": "stdout",
     "output_type": "stream",
     "text": [
      "<class '__main__.FourCal'>\n",
      "4\n",
      "2\n",
      "3\n",
      "4\n",
      "6\n"
     ]
    }
   ],
   "source": [
    "# 사칙연산 클래스 만들기\n",
    "#\n",
    "# 목표\n",
    "# a = FourCal()\n",
    "# a.setdata(4,2)\n",
    "# print(a.sum()) # 6\n",
    "# print(a.mul()) # 8\n",
    "# print(a.sub()) # 2\n",
    "# print(a.div()) # 2\n",
    "\n",
    "# 클래스 구조 만들기\n",
    "class FourCal :\n",
    "    pass\n",
    "\n",
    "a = FourCal()\n",
    "print(type(a)) # <class '__main__.FourCal'>\n",
    "\n",
    "# 객체에 숫자 지정할 수 있게 만들기\n",
    "class FourCal :\n",
    "    def setdata(self, first, second) :\n",
    "        self.first = first\n",
    "        self.second = second\n",
    "\n",
    "a = FourCal()\n",
    "a.setdata(4, 2)\n",
    "print(a.first) # 4\n",
    "print(a.second) # 2\n",
    "\n",
    "b = FourCal()\n",
    "b.setdata(3, 7)\n",
    "print(b.first) # 3\n",
    "print(a.first) # 4\n",
    "\n",
    "# 더하기 기능 만들기\n",
    "class FourCal :\n",
    "    def setdata(self, first, second) :\n",
    "        self.first = first\n",
    "        self.second = second\n",
    "\n",
    "    def sum(self) :\n",
    "        result = self.first + self.second\n",
    "        return result\n",
    "\n",
    "a = FourCal()\n",
    "a.setdata(4, 2)\n",
    "print(a.sum()) # 6"
   ]
  },
  {
   "cell_type": "code",
   "execution_count": 8,
   "id": "493e9c0c",
   "metadata": {},
   "outputs": [
    {
     "name": "stdout",
     "output_type": "stream",
     "text": [
      "박\n",
      "박\n",
      "박응용\n",
      "박응용, 부산여행을 가다.\n"
     ]
    }
   ],
   "source": [
    "# '박씨네 집' 클래스 만들기\n",
    "#\n",
    "# 목표\n",
    "# pey = HousePark()\n",
    "# print(pey.lastname) # 박\n",
    "# pey.setname('응용')\n",
    "# print(pey.fullname) # 박응용\n",
    "# pey.travel('부산') # 박응용, 부산여행을 가다.\n",
    "\n",
    "# 클래스 기능 만들기\n",
    "class HousePark :\n",
    "    lastname = \"박\"\n",
    "    def setname(self, name) :\n",
    "        self.fullname = self.lastname + name\n",
    "\n",
    "    def travel(self, where) :\n",
    "        print('%s, %s여행을 가다.' % (self.fullname, where))\n",
    "\n",
    "pey = HousePark()\n",
    "pey.setname('응용')\n",
    "pes = HousePark()\n",
    "print(pey.lastname) # 박\n",
    "print(pes.lastname) # 박\n",
    "print(pey.fullname) # 박응용\n",
    "pey.travel('부산')\n",
    "\n",
    "# __init__ 사용 전\n",
    "# pey = HousePark()\n",
    "# pey.travel('부산') ERROR"
   ]
  },
  {
   "cell_type": "code",
   "execution_count": 9,
   "id": "28f94a44",
   "metadata": {},
   "outputs": [
    {
     "name": "stdout",
     "output_type": "stream",
     "text": [
      "박응용, 태국여행을 가다.\n"
     ]
    }
   ],
   "source": [
    "# 초깃값 설정하기\n",
    "class HousePark :\n",
    "    lastname = \"박\"\n",
    "    def __init__(self, name) :\n",
    "        self.fullname = self.lastname + name\n",
    "\n",
    "    def travel(self, where) :\n",
    "        print('%s, %s여행을 가다.' % (self.fullname, where))\n",
    "\n",
    "pey = HousePark('응용')\n",
    "pey.travel('태국')"
   ]
  },
  {
   "cell_type": "code",
   "execution_count": 10,
   "id": "1b026163",
   "metadata": {},
   "outputs": [
    {
     "name": "stdout",
     "output_type": "stream",
     "text": [
      "김줄리엣, 독도여행을 가다.\n"
     ]
    }
   ],
   "source": [
    "# 클래스의 상속\n",
    "class HousePark :\n",
    "    lastname = \"박\"\n",
    "    def __init__(self, name) :\n",
    "        self.fullname = self.lastname + name\n",
    "\n",
    "    def travel(self, where) :\n",
    "        print('%s, %s여행을 가다.' % (self.fullname, where))\n",
    "\n",
    "class HouseKim(HousePark) :\n",
    "    lastname = '김'\n",
    "\n",
    "juliet = HouseKim('줄리엣')\n",
    "juliet.travel('독도')"
   ]
  },
  {
   "cell_type": "code",
   "execution_count": 11,
   "id": "e971c790",
   "metadata": {},
   "outputs": [
    {
     "name": "stdout",
     "output_type": "stream",
     "text": [
      "박응용, 김줄리엣 사랑에 빠졌네\n",
      "박응용, 김줄리엣 결혼했네\n"
     ]
    }
   ],
   "source": [
    "# 연산자 오버로딩\n",
    "class HousePark :\n",
    "    lastname = '박'\n",
    "    def __init__(self, name) :\n",
    "        self.fullname = self.lastname + name\n",
    "\n",
    "    def travel(self, where) :\n",
    "        print('%s, %s여행을 가다.' % (self.fullname, where))\n",
    "\n",
    "    def love(self, other) :\n",
    "        print('%s, %s 사랑에 빠졌네' % (self.fullname, other.fullname))\n",
    "\n",
    "    def __add__(self, other) :\n",
    "        print('%s, %s 결혼했네' % (self.fullname, other.fullname))\n",
    "\n",
    "\n",
    "class HouseKim(HousePark) :\n",
    "    lastname = '김'\n",
    "    def travel(self, where, day) :\n",
    "        print('%s, %s여행 %d일 가네.' % (self.fullname, where, day))\n",
    "\n",
    "pey = HousePark('응용')\n",
    "juliet = HouseKim('줄리엣')\n",
    "pey.love(juliet)\n",
    "pey + juliet"
   ]
  },
  {
   "cell_type": "code",
   "execution_count": 12,
   "id": "8559fc38",
   "metadata": {},
   "outputs": [
    {
     "name": "stdout",
     "output_type": "stream",
     "text": [
      "더할수 있는 값이 아닙니다.\n",
      "None\n",
      "5\n",
      "20.4\n"
     ]
    }
   ],
   "source": [
    "# 모듈\n",
    "# mod1.py\n",
    "\n",
    "def sum(a, b) :\n",
    "    return a + b\n",
    "\n",
    "# import mod1\n",
    "# print(mod1.sum(3, 4)) # 7\n",
    "\n",
    "def safe_sum(a, b) :\n",
    "    if type(a) != type(b) :\n",
    "        print('더할수 있는 값이 아닙니다.')\n",
    "        return\n",
    "    else :\n",
    "        result = sum(a, b)\n",
    "\n",
    "    return result\n",
    "\n",
    "# import mod1\n",
    "# print(mod1.safe_sum(3, 4)) # 7\n",
    "# print(mod1.safe_sum(1, 'a')) # 더할수 있는 값이 아닙니다. NONE\n",
    "# print(mod1.sum(10, 20)) # 30\n",
    "\n",
    "if __name__ == '__main__' :\n",
    "    print(safe_sum('a', 1))\n",
    "    print(safe_sum(1, 4))\n",
    "    print(sum(10, 10.4))"
   ]
  },
  {
   "cell_type": "code",
   "execution_count": 13,
   "id": "0f1281e0",
   "metadata": {},
   "outputs": [
    {
     "name": "stdout",
     "output_type": "stream",
     "text": [
      "3.141592\n",
      "12.566368\n",
      "7.5415920000000005\n"
     ]
    }
   ],
   "source": [
    "# 클래스나 변수 등을 포함한 모듈\n",
    "# mod2.py\n",
    "PI = 3.141592\n",
    "class Math :\n",
    "    def solv(self, r) :\n",
    "        return PI * (r ** 2)\n",
    "\n",
    "def sum(a, b) :\n",
    "    return a + b\n",
    "\n",
    "if __name__ == '__main__' :\n",
    "    print(PI)\n",
    "    a = Math()\n",
    "    print(a.solv(2))\n",
    "    print(sum(PI, 4.4))\n",
    "\n",
    "# 모듈에 포함된 변수, 클래스, 함수 사용하기\n",
    "# print(mod2.PI) # 3.141592\n",
    "# a = mod2.Math()\n",
    "# print(a.solv(2)) # 12.566368\n",
    "# print(mod2.sum(mod.PI, 4.4)) # 7.541592"
   ]
  },
  {
   "cell_type": "code",
   "execution_count": 14,
   "id": "2be071b8",
   "metadata": {},
   "outputs": [
    {
     "ename": "SyntaxError",
     "evalue": "invalid syntax (Temp/ipykernel_9496/1063078688.py, line 17)",
     "output_type": "error",
     "traceback": [
      "\u001b[1;36m  File \u001b[1;32m\"C:\\Users\\dksxo\\AppData\\Local\\Temp/ipykernel_9496/1063078688.py\"\u001b[1;36m, line \u001b[1;32m17\u001b[0m\n\u001b[1;33m    fromt game.sound import *\u001b[0m\n\u001b[1;37m          ^\u001b[0m\n\u001b[1;31mSyntaxError\u001b[0m\u001b[1;31m:\u001b[0m invalid syntax\n"
     ]
    }
   ],
   "source": [
    "# 패키지 안의 함수 실행하기\n",
    "import game.sound.echo\n",
    "game.sound.echo.echo_test()\n",
    "\n",
    "from game.sound import echo\n",
    "echo.echo_test()\n",
    "\n",
    "from game.sound.echo import echo_test\n",
    "echo_test()\n",
    "\n",
    "# 불가능\n",
    "# improt game\n",
    "# game.sound.echo.echo_test()\n",
    "#\n",
    "# import game.sound.echo.echo_test\n",
    "\n",
    "fromt game.sound import *\n",
    "echo.echo_test()\n",
    "\n",
    "from game.graphic.render import render_test\n",
    "render_test()"
   ]
  },
  {
   "cell_type": "code",
   "execution_count": 15,
   "id": "7c5093ef",
   "metadata": {},
   "outputs": [
    {
     "ename": "IndentationError",
     "evalue": "expected an indented block (Temp/ipykernel_9496/168461318.py, line 21)",
     "output_type": "error",
     "traceback": [
      "\u001b[1;36m  File \u001b[1;32m\"C:\\Users\\dksxo\\AppData\\Local\\Temp/ipykernel_9496/168461318.py\"\u001b[1;36m, line \u001b[1;32m21\u001b[0m\n\u001b[1;33m    finally :\u001b[0m\n\u001b[1;37m    ^\u001b[0m\n\u001b[1;31mIndentationError\u001b[0m\u001b[1;31m:\u001b[0m expected an indented block\n"
     ]
    }
   ],
   "source": [
    "# 예외 처리\n",
    "# try, except 문\n",
    "try :\n",
    "    4 / 0\n",
    "except ZeroDivisionError as e :\n",
    "    print(e)\n",
    "\n",
    "# try .. else\n",
    "try :\n",
    "    f = open('foo.txt', 'r')\n",
    "except FileNotFoundError as e :\n",
    "    print(str(e))\n",
    "else :\n",
    "    data = f.read()\n",
    "    f.close()\n",
    "\n",
    "# try .. finally\n",
    "f = open('foo.txt', 'r')\n",
    "try :\n",
    "    # 무엇을 실행한다.\n",
    "finally :\n",
    "    f.close()"
   ]
  },
  {
   "cell_type": "code",
   "execution_count": 16,
   "id": "e8b2e55b",
   "metadata": {},
   "outputs": [
    {
     "name": "stdout",
     "output_type": "stream",
     "text": [
      "very fast\n"
     ]
    }
   ],
   "source": [
    "# 오류 회피하기\n",
    "try :\n",
    "    f = open('없는 파일.txt', 'r')\n",
    "except FileNotFoundError :\n",
    "    pass\n",
    "\n",
    "# 오류 일부러 발생시키기\n",
    "class Bird :\n",
    "    def fly(self) :\n",
    "        raise NotImplementedError\n",
    "\n",
    "class Eagle(Bird) :\n",
    "    pass\n",
    "\n",
    "# eagle = Eagle()\n",
    "# eagle.fly() # 'NotImplementedError'\n",
    "\n",
    "class Eagle(Bird) :\n",
    "    def fly(self) :\n",
    "        print('very fast')\n",
    "\n",
    "eagle = Eagle()\n",
    "eagle.fly() # 'very fast'"
   ]
  },
  {
   "cell_type": "code",
   "execution_count": 17,
   "id": "790ce457",
   "metadata": {},
   "outputs": [
    {
     "name": "stdout",
     "output_type": "stream",
     "text": [
      "3\n",
      "3\n",
      "1.2\n",
      "True\n",
      "False\n",
      "True\n",
      "False\n",
      "a\n",
      "0\n",
      "['__add__', '__class__', '__class_getitem__', '__contains__', '__delattr__', '__delitem__', '__dir__', '__doc__', '__eq__', '__format__', '__ge__', '__getattribute__', '__getitem__', '__gt__', '__hash__', '__iadd__', '__imul__', '__init__', '__init_subclass__', '__iter__', '__le__', '__len__', '__lt__', '__mul__', '__ne__', '__new__', '__reduce__', '__reduce_ex__', '__repr__', '__reversed__', '__rmul__', '__setattr__', '__setitem__', '__sizeof__', '__str__', '__subclasshook__', 'append', 'clear', 'copy', 'count', 'extend', 'index', 'insert', 'pop', 'remove', 'reverse', 'sort']\n",
      "['__and__', '__class__', '__class_getitem__', '__contains__', '__delattr__', '__dir__', '__doc__', '__eq__', '__format__', '__ge__', '__getattribute__', '__gt__', '__hash__', '__iand__', '__init__', '__init_subclass__', '__ior__', '__isub__', '__iter__', '__ixor__', '__le__', '__len__', '__lt__', '__ne__', '__new__', '__or__', '__rand__', '__reduce__', '__reduce_ex__', '__repr__', '__ror__', '__rsub__', '__rxor__', '__setattr__', '__sizeof__', '__str__', '__sub__', '__subclasshook__', '__xor__', 'add', 'clear', 'copy', 'difference', 'difference_update', 'discard', 'intersection', 'intersection_update', 'isdisjoint', 'issubset', 'issuperset', 'pop', 'remove', 'symmetric_difference', 'symmetric_difference_update', 'union', 'update']\n",
      "(2, 1)\n",
      "(6.0, 0.09999999999999998)\n",
      "0 body\n",
      "1 foo\n",
      "2 bar\n",
      "3\n",
      "hia\n",
      "(1, 1)\n"
     ]
    }
   ],
   "source": [
    "# abs\n",
    "print(abs(3)) # 3\n",
    "print(abs(-3)) # 3\n",
    "print(abs(-1.2)) # 1.2\n",
    "\n",
    "# all\n",
    "print(all([1, 2, 3])) # True\n",
    "print(all([1, 2, 3, 0])) # False\n",
    "\n",
    "# any\n",
    "print(any([1, 2, 3, 0])) # True\n",
    "print(any([0, \"\"])) # False\n",
    "\n",
    "# chr\n",
    "print(chr(97)) # 'a'\n",
    "print(chr(48)) # '0'\n",
    "\n",
    "# dir\n",
    "print(dir([1, 2, 3]))\n",
    "print(dir({'1', 'a'}))\n",
    "\n",
    "# divmod\n",
    "print(divmod(7, 3)) # (2, 1)\n",
    "print(divmod(1.3, 0.2)) # (6.0, 0.09999...)\n",
    "\n",
    "# enumerate\n",
    "for i, name in enumerate(['body', 'foo', 'bar']) :\n",
    "    print(i, name)\n",
    "'''\n",
    "0 body\n",
    "1 foo\n",
    "2 bar\n",
    "'''\n",
    "\n",
    "# eval\n",
    "print(eval('1+2')) # 3\n",
    "print(eval(\"'hi' + 'a'\")) # 'hia'\n",
    "print(eval('divmod(4, 3)')) # (1, 1)"
   ]
  },
  {
   "cell_type": "code",
   "execution_count": 18,
   "id": "88744fc8",
   "metadata": {},
   "outputs": [
    {
     "name": "stdout",
     "output_type": "stream",
     "text": [
      "[1, 2, 6]\n",
      "[1, 2, 6]\n",
      "[1, 2, 6]\n",
      "0xea\n",
      "0x3\n",
      "2125117090160\n",
      "2125117090160\n",
      "2125117090160\n",
      "2125117090192\n"
     ]
    },
    {
     "ename": "KeyboardInterrupt",
     "evalue": "Interrupted by user",
     "output_type": "error",
     "traceback": [
      "\u001b[1;31m---------------------------------------------------------------------------\u001b[0m",
      "\u001b[1;31mKeyboardInterrupt\u001b[0m                         Traceback (most recent call last)",
      "\u001b[1;32m~\\AppData\\Local\\Temp/ipykernel_9496/1880890495.py\u001b[0m in \u001b[0;36m<module>\u001b[1;34m\u001b[0m\n\u001b[0;32m     31\u001b[0m \u001b[1;33m\u001b[0m\u001b[0m\n\u001b[0;32m     32\u001b[0m \u001b[1;31m# input\u001b[0m\u001b[1;33m\u001b[0m\u001b[1;33m\u001b[0m\u001b[0m\n\u001b[1;32m---> 33\u001b[1;33m \u001b[0ma\u001b[0m \u001b[1;33m=\u001b[0m \u001b[0minput\u001b[0m\u001b[1;33m(\u001b[0m\u001b[1;33m)\u001b[0m\u001b[1;33m\u001b[0m\u001b[1;33m\u001b[0m\u001b[0m\n\u001b[0m\u001b[0;32m     34\u001b[0m \u001b[0mprint\u001b[0m\u001b[1;33m(\u001b[0m\u001b[0ma\u001b[0m\u001b[1;33m)\u001b[0m\u001b[1;33m\u001b[0m\u001b[1;33m\u001b[0m\u001b[0m\n\u001b[0;32m     35\u001b[0m \u001b[0mb\u001b[0m \u001b[1;33m=\u001b[0m \u001b[0minput\u001b[0m\u001b[1;33m(\u001b[0m\u001b[1;34m'Enter : '\u001b[0m\u001b[1;33m)\u001b[0m\u001b[1;33m\u001b[0m\u001b[1;33m\u001b[0m\u001b[0m\n",
      "\u001b[1;32m~\\anaconda3\\lib\\site-packages\\ipykernel\\kernelbase.py\u001b[0m in \u001b[0;36mraw_input\u001b[1;34m(self, prompt)\u001b[0m\n\u001b[0;32m   1004\u001b[0m                 \u001b[1;34m\"raw_input was called, but this frontend does not support input requests.\"\u001b[0m\u001b[1;33m\u001b[0m\u001b[1;33m\u001b[0m\u001b[0m\n\u001b[0;32m   1005\u001b[0m             )\n\u001b[1;32m-> 1006\u001b[1;33m         return self._input_request(\n\u001b[0m\u001b[0;32m   1007\u001b[0m             \u001b[0mstr\u001b[0m\u001b[1;33m(\u001b[0m\u001b[0mprompt\u001b[0m\u001b[1;33m)\u001b[0m\u001b[1;33m,\u001b[0m\u001b[1;33m\u001b[0m\u001b[1;33m\u001b[0m\u001b[0m\n\u001b[0;32m   1008\u001b[0m             \u001b[0mself\u001b[0m\u001b[1;33m.\u001b[0m\u001b[0m_parent_ident\u001b[0m\u001b[1;33m[\u001b[0m\u001b[1;34m\"shell\"\u001b[0m\u001b[1;33m]\u001b[0m\u001b[1;33m,\u001b[0m\u001b[1;33m\u001b[0m\u001b[1;33m\u001b[0m\u001b[0m\n",
      "\u001b[1;32m~\\anaconda3\\lib\\site-packages\\ipykernel\\kernelbase.py\u001b[0m in \u001b[0;36m_input_request\u001b[1;34m(self, prompt, ident, parent, password)\u001b[0m\n\u001b[0;32m   1049\u001b[0m             \u001b[1;32mexcept\u001b[0m \u001b[0mKeyboardInterrupt\u001b[0m\u001b[1;33m:\u001b[0m\u001b[1;33m\u001b[0m\u001b[1;33m\u001b[0m\u001b[0m\n\u001b[0;32m   1050\u001b[0m                 \u001b[1;31m# re-raise KeyboardInterrupt, to truncate traceback\u001b[0m\u001b[1;33m\u001b[0m\u001b[1;33m\u001b[0m\u001b[0m\n\u001b[1;32m-> 1051\u001b[1;33m                 \u001b[1;32mraise\u001b[0m \u001b[0mKeyboardInterrupt\u001b[0m\u001b[1;33m(\u001b[0m\u001b[1;34m\"Interrupted by user\"\u001b[0m\u001b[1;33m)\u001b[0m \u001b[1;32mfrom\u001b[0m \u001b[1;32mNone\u001b[0m\u001b[1;33m\u001b[0m\u001b[1;33m\u001b[0m\u001b[0m\n\u001b[0m\u001b[0;32m   1052\u001b[0m             \u001b[1;32mexcept\u001b[0m \u001b[0mException\u001b[0m\u001b[1;33m:\u001b[0m\u001b[1;33m\u001b[0m\u001b[1;33m\u001b[0m\u001b[0m\n\u001b[0;32m   1053\u001b[0m                 \u001b[0mself\u001b[0m\u001b[1;33m.\u001b[0m\u001b[0mlog\u001b[0m\u001b[1;33m.\u001b[0m\u001b[0mwarning\u001b[0m\u001b[1;33m(\u001b[0m\u001b[1;34m\"Invalid Message:\"\u001b[0m\u001b[1;33m,\u001b[0m \u001b[0mexc_info\u001b[0m\u001b[1;33m=\u001b[0m\u001b[1;32mTrue\u001b[0m\u001b[1;33m)\u001b[0m\u001b[1;33m\u001b[0m\u001b[1;33m\u001b[0m\u001b[0m\n",
      "\u001b[1;31mKeyboardInterrupt\u001b[0m: Interrupted by user"
     ]
    }
   ],
   "source": [
    "# filter\n",
    "# positive.py\n",
    "def positive(numberList) :\n",
    "    result = []\n",
    "    for num in numberList :\n",
    "        if num > 0 :\n",
    "            result.append(num)\n",
    "    return result\n",
    "\n",
    "print(positive([1, -3, 2, 0, -5, 6])) # [1, 2, 6]\n",
    "\n",
    "# filter1.py\n",
    "def positive(x) :\n",
    "    return x > 0\n",
    "\n",
    "print(list(filter(positive, [1, -3, 2, 0, -5, 6]))) # [1, 2, 6]\n",
    "print(list(filter(lambda x : x > 0, [1, -3, 2, 0, -5, 6]))) # [1, 2, 6]\n",
    "\n",
    "# hex\n",
    "print(hex(234)) # '0xea'\n",
    "print(hex(3)) # '0x3'\n",
    "\n",
    "# id\n",
    "a = 3\n",
    "print(id(3)) # 주소값\n",
    "print(id(a)) # 주소값\n",
    "b = a\n",
    "print(id(b)) # 주소값\n",
    "# 3, a, b 모두 같은 주소값, 같은 객체를 가리킨다.\n",
    "print(id(4))\n",
    "\n",
    "# input\n",
    "a = input()\n",
    "print(a)\n",
    "b = input('Enter : ')\n",
    "print(b)"
   ]
  },
  {
   "cell_type": "code",
   "execution_count": null,
   "id": "9dc4f6b5",
   "metadata": {},
   "outputs": [],
   "source": [
    "# int\n",
    "print(int('3')) # 3\n",
    "print(int(3.4)) # 3\n",
    "print(int('11', 2)) # 3\n",
    "print(int('1A', 16)) # 26\n",
    "\n",
    "# isinstance\n",
    "class Person :\n",
    "    pass\n",
    "\n",
    "a = Person()\n",
    "print(isinstance(a, Person)) # True\n",
    "b = 3\n",
    "print(isinstance(b, Person)) # False\n",
    "\n",
    "# lambda\n",
    "sum = lambda a, b : a + b\n",
    "print(sum(3, 4)) # 7\n",
    "\n",
    "myList = [lambda a, b : a + b, lambda a, b : a * b]\n",
    "print(myList)\n",
    "print(myList[0])\n",
    "print(myList[0](3, 4)) # 7\n",
    "print(myList[1](3, 4)) # 12\n",
    "\n",
    "# len\n",
    "print(len('python')) # 6\n",
    "print(len([1, 2, 3])) # 3\n",
    "print(len((1, 'a'))) # 2\n",
    "\n",
    "# list\n",
    "print(list('python')) # ['p', 'y', 't', 'h', 'o', 'n']\n",
    "print(list((1, 2, 3))) # [1, 2, 3]\n",
    "a = [1, 2, 3]\n",
    "b = list(a)\n",
    "print(b) # [1, 2, 3]"
   ]
  },
  {
   "cell_type": "code",
   "execution_count": null,
   "id": "5f4c2029",
   "metadata": {},
   "outputs": [],
   "source": [
    "# map\n",
    "# two_times.py\n",
    "def two_times(numberList) :\n",
    "    result = []\n",
    "    for number in numberList :\n",
    "        result.append(number * 2)\n",
    "    return result\n",
    "\n",
    "result = two_times([1, 2, 3, 4])\n",
    "print(result) # [2, 4, 6, 8]\n",
    "\n",
    "def two_times(x) : return x * 2\n",
    "print(list(map(two_times, [1, 2, 3, 4]))) # [2, 4, 6, 8]\n",
    "print(list(map(lambda a : a * 2, [1, 2, 3, 4]))) # [2, 4 ,6, 8]\n",
    "\n",
    "# map_test.py\n",
    "def plus_one(x) :\n",
    "    return x + 1\n",
    "print(list(map(plus_one, [1, 2, 3, 4, 5]))) # [2, 3, 4, 5, 6]\n",
    "\n",
    "# max\n",
    "print(max([1, 2, 3])) # 3\n",
    "print(max('python')) # 'y'\n",
    "\n",
    "# min\n",
    "print(min([1, 2, 3])) # 1\n",
    "print(min('python')) # 'h'\n",
    "\n",
    "# oct\n",
    "print(oct(34)) # '0o42'\n",
    "print(oct(12345)) # '0o30071'\n",
    "\n",
    "# open\n",
    "# f = open('binary_file', 'rb')\n",
    "# fread = open('read_mode.txt', 'r')\n",
    "# fread2 = open('read_mode.txt')\n",
    "# fappend = open('append_mode.txt', 'a')"
   ]
  },
  {
   "cell_type": "code",
   "execution_count": 19,
   "id": "a284fce2",
   "metadata": {},
   "outputs": [
    {
     "name": "stdout",
     "output_type": "stream",
     "text": [
      "97\n",
      "48\n",
      "16\n",
      "27\n",
      "[0, 1, 2, 3, 4]\n",
      "[5, 6, 7, 8, 9]\n",
      "[1, 3, 5, 7, 9]\n",
      "[0, -1, -2, -3, -4, -5, -6, -7, -8, -9]\n",
      "[1, 2, 3]\n",
      "['a', 'b', 'c']\n",
      "['e', 'o', 'r', 'z']\n",
      "[1, 2, 3]\n",
      "None\n",
      "[1, 2, 3]\n",
      "3\n",
      "hi\n",
      "HI\n",
      "('a', 'b', 'c')\n",
      "(1, 2, 3)\n",
      "(1, 2, 3)\n",
      "<class 'str'>\n",
      "<class 'list'>\n",
      "<class '_io.TextIOWrapper'>\n",
      "[(1, 4), (2, 5), (3, 6)]\n",
      "[(1, 4, 7), (2, 5, 8), (3, 6, 9)]\n",
      "[('a', 'd'), ('b', 'e'), ('c', 'f')]\n"
     ]
    }
   ],
   "source": [
    "# ord\n",
    "print(ord('a')) # 97\n",
    "print(ord('0')) # 48\n",
    "\n",
    "# pow\n",
    "print(pow(2, 4)) # 16\n",
    "print(pow(3, 3)) # 27\n",
    "\n",
    "# range\n",
    "\n",
    "# 인수가 하나인 경우\n",
    "print(list(range(5))) # [0, 1, 2, 3, 4]\n",
    "\n",
    "# 인수가 2개인 경우\n",
    "print(list(range(5, 10))) # [5, 6, 7, 8, 9]\n",
    "\n",
    "# 인수가 3개인 경우\n",
    "print(list(range(1, 10, 2))) # [1, 3, 5, 7, 9]\n",
    "print(list(range(0, -10, -1))) # [0, -1, -2, -3, -4, -5, -6, -7, -8, -9]\n",
    "\n",
    "# sorted\n",
    "print(sorted([3, 1, 2])) # [1, 2, 3]\n",
    "print(sorted(['a', 'c', 'b'])) # ['a', 'b', 'c']\n",
    "print(sorted('zero')) # ['e', 'o', 'r', 'z']\n",
    "print(sorted((3, 2, 1))) # [1, 2, 3]\n",
    "\n",
    "# sort 함수와의 차이점\n",
    "a = [3, 1, 2]\n",
    "result = a.sort()\n",
    "print(result) # None\n",
    "print(a) # [1, 2, 3]\n",
    "\n",
    "# str\n",
    "print(str(3)) # '3'\n",
    "print(str('hi')) # 'hi'\n",
    "print(str('hi'.upper())) # 'HI'\n",
    "\n",
    "# tuple\n",
    "print(tuple('abc')) # ('a', 'b', 'c')\n",
    "print(tuple([1, 2, 3])) # (1, 2, 3)\n",
    "print(tuple((1, 2, 3))) # (1, 2, 3)\n",
    "\n",
    "# type\n",
    "print(type('abc')) # <class 'str'>\n",
    "print(type([])) # <class 'list'>\n",
    "print(type(open('test', 'w'))) # <class '_io.TextIOWrapper'>\n",
    "\n",
    "# zip\n",
    "print(list(zip([1, 2, 3], [4, 5, 6]))) # [(1, 4), (2, 5), (3, 6)]\n",
    "print(list(zip([1, 2, 3], [4, 5, 6], [7, 8, 9]))) #[(1, 4, 7), (2, 5, 8), (3, 6, 9)]\n",
    "print(list(zip('abc', 'def'))) # [('a', 'd'), ('b', 'e'), ('c', 'f')]"
   ]
  },
  {
   "cell_type": "code",
   "execution_count": null,
   "id": "6550a65c",
   "metadata": {},
   "outputs": [],
   "source": []
  }
 ],
 "metadata": {
  "kernelspec": {
   "display_name": "Python 3 (ipykernel)",
   "language": "python",
   "name": "python3"
  },
  "language_info": {
   "codemirror_mode": {
    "name": "ipython",
    "version": 3
   },
   "file_extension": ".py",
   "mimetype": "text/x-python",
   "name": "python",
   "nbconvert_exporter": "python",
   "pygments_lexer": "ipython3",
   "version": "3.9.7"
  }
 },
 "nbformat": 4,
 "nbformat_minor": 5
}
