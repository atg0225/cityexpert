{
 "cells": [
  {
   "cell_type": "code",
   "execution_count": 1,
   "id": "cb082605",
   "metadata": {},
   "outputs": [
    {
     "name": "stdout",
     "output_type": "stream",
     "text": [
      "7\n",
      "7\n",
      "Hi\n",
      "3, 4의 합은 7입니다.\n",
      "3, 4의 합은 7입니다.\n",
      "None\n",
      "Hi\n",
      "6\n",
      "55\n",
      "15\n",
      "120\n",
      "5\n",
      "나의 별명은 야호입니다.\n"
     ]
    }
   ],
   "source": [
    "# 함수\n",
    "# 파이썬 함수의 구조\n",
    "def sum(a, b) :\n",
    "    return a + b\n",
    "\n",
    "a = 3\n",
    "b = 4\n",
    "c = sum(a,b)\n",
    "print(c) # 7\n",
    "\n",
    "# 일반적인 함수\n",
    "def sum(a, b) :\n",
    "    result = a + b\n",
    "    return result\n",
    "\n",
    "a = sum(3, 4)\n",
    "print(a) # 7\n",
    "\n",
    "# 입력값이 없는 함수\n",
    "def say() :\n",
    "    return 'Hi'\n",
    "\n",
    "a = say()\n",
    "print(a) # Hi\n",
    "\n",
    "# 결과값이 없는 함수\n",
    "def sum(a, b) :\n",
    "    print('%d, %d의 합은 %d입니다.' % (a, b, a + b))\n",
    "\n",
    "sum(3, 4)\n",
    "a = sum(3, 4)\n",
    "print(a) # None\n",
    "\n",
    "# 입력값도 결과값도 없는 함수\n",
    "def say() :\n",
    "    print('Hi')\n",
    "\n",
    "say()\n",
    "\n",
    "# 여러 개의 입력값을 받는 함수 만들기\n",
    "def sum_many(*args) :\n",
    "    sum = 0\n",
    "    for i in args:\n",
    "        sum = sum + i\n",
    "    return sum\n",
    "\n",
    "result = sum_many(1, 2, 3)\n",
    "print(result) # 6\n",
    "result = sum_many(1, 2, 3, 4, 5, 6, 7, 8, 9, 10)\n",
    "print(result) # 10\n",
    "\n",
    "def sum_mul(choice, *args) :\n",
    "    if choice == 'sum' :\n",
    "        result = 0\n",
    "        for i in args :\n",
    "            result = result + i\n",
    "    elif choice == 'mul' :\n",
    "        result = 1\n",
    "        for i in args :\n",
    "            result = result * i\n",
    "    return result\n",
    "\n",
    "result = sum_mul('sum', 1, 2, 3, 4, 5)\n",
    "print(result) # 15\n",
    "result = sum_mul('mul', 1, 2, 3, 4, 5)\n",
    "print(result) # 120\n",
    "\n",
    "# 함수의 결과값은 언제나 하나\n",
    "def sum_and_mul(a, b) :\n",
    "    return a + b, a * b\n",
    "\n",
    "result = sum_and_mul(3, 4) # (7, 12)\n",
    "sum, mul = sum_and_mul(3, 4) # sum = 7, mul = 12\n",
    "\n",
    "def sum_and_mul(a, b) :\n",
    "    return a + b\n",
    "    return a * b # 무시\n",
    "\n",
    "result = sum_and_mul(2, 3)\n",
    "print(result) # 5\n",
    "\n",
    "# return의 또 다른 쓰임새\n",
    "def say_nick(nick) :\n",
    "    if nick == '바보' :\n",
    "        return\n",
    "    print('나의 별명은 %s입니다.' % nick)\n",
    "\n",
    "say_nick('야호')\n",
    "say_nick('바보')"
   ]
  },
  {
   "cell_type": "code",
   "execution_count": 3,
   "id": "c9c7e07c",
   "metadata": {},
   "outputs": [
    {
     "name": "stdout",
     "output_type": "stream",
     "text": [
      "나의 이름은 박응용입니다.\n",
      "나이는 27살 입니다.\n",
      "남자입니다.\n",
      "나의 이름은 박응용입니다.\n",
      "나이는 27살 입니다.\n",
      "남자입니다.\n",
      "나의 이름은 박응용입니다.\n",
      "나이는 27살 입니다.\n",
      "여자입니다.\n"
     ]
    }
   ],
   "source": [
    "# 입력 인수에 초깃값 미리 설정하기\n",
    "def say_myself(name, old, man = True) :\n",
    "    print('나의 이름은 %s입니다.' % name)\n",
    "    print('나이는 %d살 입니다.' % old)\n",
    "    if man :\n",
    "        print('남자입니다.')\n",
    "    else:\n",
    "        print('여자입니다.')\n",
    "\n",
    "say_myself('박응용', 27)\n",
    "say_myself('박응용', 27, True)\n",
    "say_myself('박응용', 27, False)"
   ]
  },
  {
   "cell_type": "code",
   "execution_count": 4,
   "id": "92280fb3",
   "metadata": {},
   "outputs": [
    {
     "name": "stdout",
     "output_type": "stream",
     "text": [
      "1\n",
      "2\n",
      "2\n"
     ]
    }
   ],
   "source": [
    "# 함수 안에서 선언된 변수의 효력 범위\n",
    "# vartest.py\n",
    "a = 1\n",
    "def vartest(a) :\n",
    "    a = a + 1\n",
    "\n",
    "vartest(a)\n",
    "print(a) # 1\n",
    "\n",
    "def vartest(hello) :\n",
    "    hello = hello + 1\n",
    "\n",
    "# vartest_error.py\n",
    "# def vertest(a) :\n",
    "#     a = a + 1\n",
    "#\n",
    "# vartest(3)\n",
    "# print(a)\n",
    "# 변수 a는 선언되지 않았다.\n",
    "\n",
    "# 함수 안에서 함수 밖의 변수를 변경하는 방법\n",
    "# retrun 이용하기\n",
    "# vartest_return.py\n",
    "a = 1\n",
    "def vartest(a) :\n",
    "    a = a + 1\n",
    "    return a\n",
    "\n",
    "a = vartest(a)\n",
    "print(a) # 2\n",
    "\n",
    "# global 명령어 이용하기\n",
    "# vartest_global.py\n",
    "a = 1\n",
    "def vartest() :\n",
    "    global a\n",
    "    a = a + 1\n",
    "\n",
    "vartest()\n",
    "print(a) # 2"
   ]
  },
  {
   "cell_type": "code",
   "execution_count": 5,
   "id": "db5bbb69",
   "metadata": {},
   "outputs": [
    {
     "name": "stdout",
     "output_type": "stream",
     "text": [
      "도시\n"
     ]
    },
    {
     "data": {
      "text/plain": [
       "'도시'"
      ]
     },
     "execution_count": 5,
     "metadata": {},
     "output_type": "execute_result"
    }
   ],
   "source": [
    "# 사용자 입력\n",
    "a = input()\n",
    "a"
   ]
  },
  {
   "cell_type": "code",
   "execution_count": 6,
   "id": "70a2506a",
   "metadata": {},
   "outputs": [
    {
     "name": "stdout",
     "output_type": "stream",
     "text": [
      "숫자를 입력하세요 : 7\n",
      "7\n"
     ]
    }
   ],
   "source": [
    "# 프롬프트를 띄워서 사용자 입력 받기\n",
    "number = input('숫자를 입력하세요 : ')\n",
    "print(number)"
   ]
  },
  {
   "cell_type": "code",
   "execution_count": 7,
   "id": "c3467bea",
   "metadata": {},
   "outputs": [
    {
     "name": "stdout",
     "output_type": "stream",
     "text": [
      "123\n",
      "Python\n",
      "[1, 2, 3]\n",
      "lifeistoo short\n",
      "lifeistoo short\n",
      "life is too short\n",
      "0 1 2 3 4 5 6 7 8 9 "
     ]
    }
   ],
   "source": [
    "# print자세히 알기\n",
    "a = 123\n",
    "print(a) # 숫자 출력하기\n",
    "a = 'Python'\n",
    "print(a) # 문자열 출력하기\n",
    "a = [1, 2, 3]\n",
    "print(a) # 리스트 출력하기\n",
    "\n",
    "# 큰따옴표(\")로 둘러싸인 문자열을 + 연산과 동일\n",
    "print(\"life\"\"is\"\"too short\")\n",
    "print(\"life\" + \"is\" + \"too short\")\n",
    "\n",
    "# 문자열 띄어쓰기는 콤마로 한다.\n",
    "print(\"life\", \"is\", \"too short\")\n",
    "\n",
    "# 한 줄에 결과값 출력하기\n",
    "for i in range(10) :\n",
    "    print(i, end = ' ')"
   ]
  },
  {
   "cell_type": "code",
   "execution_count": 8,
   "id": "d3899f84",
   "metadata": {},
   "outputs": [
    {
     "ename": "FileNotFoundError",
     "evalue": "[Errno 2] No such file or directory: 'C:/Python/새파일.txt'",
     "output_type": "error",
     "traceback": [
      "\u001b[1;31m---------------------------------------------------------------------------\u001b[0m",
      "\u001b[1;31mFileNotFoundError\u001b[0m                         Traceback (most recent call last)",
      "\u001b[1;32m~\\AppData\\Local\\Temp/ipykernel_22384/2890005572.py\u001b[0m in \u001b[0;36m<module>\u001b[1;34m\u001b[0m\n\u001b[0;32m      4\u001b[0m \u001b[1;33m\u001b[0m\u001b[0m\n\u001b[0;32m      5\u001b[0m \u001b[1;31m# 새파일.txt를 C:/Python 이라는 디렉터리에 저장하고 싶다면\u001b[0m\u001b[1;33m\u001b[0m\u001b[1;33m\u001b[0m\u001b[0m\n\u001b[1;32m----> 6\u001b[1;33m \u001b[0mf\u001b[0m \u001b[1;33m=\u001b[0m \u001b[0mopen\u001b[0m\u001b[1;33m(\u001b[0m\u001b[1;34m'C:/Python/새파일.txt'\u001b[0m\u001b[1;33m,\u001b[0m \u001b[1;34m'w'\u001b[0m\u001b[1;33m)\u001b[0m\u001b[1;33m\u001b[0m\u001b[1;33m\u001b[0m\u001b[0m\n\u001b[0m\u001b[0;32m      7\u001b[0m \u001b[0mf\u001b[0m\u001b[1;33m.\u001b[0m\u001b[0mclose\u001b[0m\u001b[1;33m(\u001b[0m\u001b[1;33m)\u001b[0m\u001b[1;33m\u001b[0m\u001b[1;33m\u001b[0m\u001b[0m\n",
      "\u001b[1;31mFileNotFoundError\u001b[0m: [Errno 2] No such file or directory: 'C:/Python/새파일.txt'"
     ]
    }
   ],
   "source": [
    "# 파일 생성하기\n",
    "f = open('새파일.txt', 'w')\n",
    "f.close()\n",
    "\n",
    "# 새파일.txt를 C:/Python 이라는 디렉터리에 저장하고 싶다면\n",
    "f = open('C:/Python/새파일.txt', 'w')\n",
    "f.close()"
   ]
  },
  {
   "cell_type": "code",
   "execution_count": 9,
   "id": "5db00760",
   "metadata": {},
   "outputs": [
    {
     "ename": "FileNotFoundError",
     "evalue": "[Errno 2] No such file or directory: 'C:/Python/새파일.txt'",
     "output_type": "error",
     "traceback": [
      "\u001b[1;31m---------------------------------------------------------------------------\u001b[0m",
      "\u001b[1;31mFileNotFoundError\u001b[0m                         Traceback (most recent call last)",
      "\u001b[1;32m~\\AppData\\Local\\Temp/ipykernel_22384/1274850353.py\u001b[0m in \u001b[0;36m<module>\u001b[1;34m\u001b[0m\n\u001b[0;32m      1\u001b[0m \u001b[1;31m# 파일을 쓰기 모드로 열어 출력값 적기\u001b[0m\u001b[1;33m\u001b[0m\u001b[1;33m\u001b[0m\u001b[0m\n\u001b[0;32m      2\u001b[0m \u001b[1;31m# writedata.py\u001b[0m\u001b[1;33m\u001b[0m\u001b[1;33m\u001b[0m\u001b[0m\n\u001b[1;32m----> 3\u001b[1;33m \u001b[0mf\u001b[0m \u001b[1;33m=\u001b[0m \u001b[0mopen\u001b[0m\u001b[1;33m(\u001b[0m\u001b[1;34m'C:/Python/새파일.txt'\u001b[0m\u001b[1;33m,\u001b[0m \u001b[1;34m'w'\u001b[0m\u001b[1;33m)\u001b[0m\u001b[1;33m\u001b[0m\u001b[1;33m\u001b[0m\u001b[0m\n\u001b[0m\u001b[0;32m      4\u001b[0m \u001b[1;32mfor\u001b[0m \u001b[0mi\u001b[0m \u001b[1;32min\u001b[0m \u001b[0mrange\u001b[0m\u001b[1;33m(\u001b[0m\u001b[1;36m1\u001b[0m\u001b[1;33m,\u001b[0m \u001b[1;36m11\u001b[0m\u001b[1;33m)\u001b[0m \u001b[1;33m:\u001b[0m\u001b[1;33m\u001b[0m\u001b[1;33m\u001b[0m\u001b[0m\n\u001b[0;32m      5\u001b[0m     \u001b[0mdata\u001b[0m \u001b[1;33m=\u001b[0m \u001b[1;34m\"%d번째 줄입니다.\\n\"\u001b[0m \u001b[1;33m%\u001b[0m \u001b[0mi\u001b[0m\u001b[1;33m\u001b[0m\u001b[1;33m\u001b[0m\u001b[0m\n",
      "\u001b[1;31mFileNotFoundError\u001b[0m: [Errno 2] No such file or directory: 'C:/Python/새파일.txt'"
     ]
    }
   ],
   "source": [
    "# 파일을 쓰기 모드로 열어 출력값 적기\n",
    "# writedata.py\n",
    "f = open('C:/Python/새파일.txt', 'w')\n",
    "for i in range(1, 11) :\n",
    "    data = \"%d번째 줄입니다.\\n\" % i\n",
    "    f.write(data)\n",
    "f.close()\n",
    "\n",
    "# 두 방법의 차이점은 print 대신 파일 객체 f의 write 함수를 이용한 것\n",
    "for i in range(1, 11) :\n",
    "    data = \"%d번째 줄입니다.\\n\" % i\n",
    "    print(data)"
   ]
  },
  {
   "cell_type": "code",
   "execution_count": 10,
   "id": "70a002a6",
   "metadata": {},
   "outputs": [
    {
     "ename": "FileNotFoundError",
     "evalue": "[Errno 2] No such file or directory: 'C:/Python/새파일.txt'",
     "output_type": "error",
     "traceback": [
      "\u001b[1;31m---------------------------------------------------------------------------\u001b[0m",
      "\u001b[1;31mFileNotFoundError\u001b[0m                         Traceback (most recent call last)",
      "\u001b[1;32m~\\AppData\\Local\\Temp/ipykernel_22384/2258602522.py\u001b[0m in \u001b[0;36m<module>\u001b[1;34m\u001b[0m\n\u001b[0;32m      2\u001b[0m \u001b[1;31m# readline() 함수 이용하기\u001b[0m\u001b[1;33m\u001b[0m\u001b[1;33m\u001b[0m\u001b[0m\n\u001b[0;32m      3\u001b[0m \u001b[1;31m# readline.py\u001b[0m\u001b[1;33m\u001b[0m\u001b[1;33m\u001b[0m\u001b[0m\n\u001b[1;32m----> 4\u001b[1;33m \u001b[0mf\u001b[0m \u001b[1;33m=\u001b[0m \u001b[0mopen\u001b[0m\u001b[1;33m(\u001b[0m\u001b[1;34m'C:/Python/새파일.txt'\u001b[0m\u001b[1;33m,\u001b[0m \u001b[1;34m'r'\u001b[0m\u001b[1;33m)\u001b[0m\u001b[1;33m\u001b[0m\u001b[1;33m\u001b[0m\u001b[0m\n\u001b[0m\u001b[0;32m      5\u001b[0m \u001b[0mline\u001b[0m \u001b[1;33m=\u001b[0m \u001b[0mf\u001b[0m\u001b[1;33m.\u001b[0m\u001b[0mreadline\u001b[0m\u001b[1;33m(\u001b[0m\u001b[1;33m)\u001b[0m \u001b[1;31m# 한 줄 읽어오기\u001b[0m\u001b[1;33m\u001b[0m\u001b[1;33m\u001b[0m\u001b[0m\n\u001b[0;32m      6\u001b[0m \u001b[0mprint\u001b[0m\u001b[1;33m(\u001b[0m\u001b[0mline\u001b[0m\u001b[1;33m)\u001b[0m\u001b[1;33m\u001b[0m\u001b[1;33m\u001b[0m\u001b[0m\n",
      "\u001b[1;31mFileNotFoundError\u001b[0m: [Errno 2] No such file or directory: 'C:/Python/새파일.txt'"
     ]
    }
   ],
   "source": [
    "# 프로그램 외부에 저장된 파일을 읽는 여러 가지 방법\n",
    "# readline() 함수 이용하기\n",
    "# readline.py\n",
    "f = open('C:/Python/새파일.txt', 'r')\n",
    "line = f.readline() # 한 줄 읽어오기\n",
    "print(line)\n",
    "f.close()\n",
    "\n",
    "# 모든 라인을 읽어오고 싶다면\n",
    "# readline_all.py\n",
    "f = open('C:/Python/새파일.txt', 'r')\n",
    "while True :\n",
    "    line = f.readline()\n",
    "    if not line : break\n",
    "    print(line)\n",
    "f.close()\n",
    "\n",
    "# 사용자의 입력을 받아서 출력하는 경우\n",
    "# 입력을 받는 방식만 다르다.\n",
    "while 1 :\n",
    "    data = input()\n",
    "    if not data : break\n",
    "    print(data)\n",
    "\n",
    "# readlines() 함수 이용하기\n",
    "f = open('C:/Python/새파일.txt', 'r')\n",
    "lines = f.readlines() # 모든 라인을 읽어서 각각의 줄을 요소로 갖는 리스트 리턴\n",
    "for line in lines :\n",
    "    print(line)\n",
    "f.close()\n",
    "\n",
    "# read() 함수 이용하기\n",
    "f = open('C:/Python/새파일.txt', 'r')\n",
    "data = f.read() # 파일 내용의 전체를 문자열로 리턴\n",
    "print(data)\n",
    "f.close()"
   ]
  },
  {
   "cell_type": "code",
   "execution_count": 11,
   "id": "51d78e26",
   "metadata": {},
   "outputs": [
    {
     "ename": "FileNotFoundError",
     "evalue": "[Errno 2] No such file or directory: 'C:/Python/새파일.txt'",
     "output_type": "error",
     "traceback": [
      "\u001b[1;31m---------------------------------------------------------------------------\u001b[0m",
      "\u001b[1;31mFileNotFoundError\u001b[0m                         Traceback (most recent call last)",
      "\u001b[1;32m~\\AppData\\Local\\Temp/ipykernel_22384/1589979170.py\u001b[0m in \u001b[0;36m<module>\u001b[1;34m\u001b[0m\n\u001b[0;32m      1\u001b[0m \u001b[1;31m# 파일에 새로운 내용 추가하기\u001b[0m\u001b[1;33m\u001b[0m\u001b[1;33m\u001b[0m\u001b[0m\n\u001b[0;32m      2\u001b[0m \u001b[1;31m# adddata.py\u001b[0m\u001b[1;33m\u001b[0m\u001b[1;33m\u001b[0m\u001b[0m\n\u001b[1;32m----> 3\u001b[1;33m \u001b[0mf\u001b[0m \u001b[1;33m=\u001b[0m \u001b[0mopen\u001b[0m\u001b[1;33m(\u001b[0m\u001b[1;34m'C:/Python/새파일.txt'\u001b[0m\u001b[1;33m,\u001b[0m \u001b[1;34m'a'\u001b[0m\u001b[1;33m)\u001b[0m\u001b[1;33m\u001b[0m\u001b[1;33m\u001b[0m\u001b[0m\n\u001b[0m\u001b[0;32m      4\u001b[0m \u001b[1;32mfor\u001b[0m \u001b[0mi\u001b[0m \u001b[1;32min\u001b[0m \u001b[0mrange\u001b[0m\u001b[1;33m(\u001b[0m\u001b[1;36m11\u001b[0m\u001b[1;33m,\u001b[0m \u001b[1;36m20\u001b[0m\u001b[1;33m)\u001b[0m \u001b[1;33m:\u001b[0m\u001b[1;33m\u001b[0m\u001b[1;33m\u001b[0m\u001b[0m\n\u001b[0;32m      5\u001b[0m     \u001b[0mdata\u001b[0m \u001b[1;33m=\u001b[0m \u001b[1;34m'%d번째 줄입니다.\\n'\u001b[0m \u001b[1;33m%\u001b[0m \u001b[0mi\u001b[0m\u001b[1;33m\u001b[0m\u001b[1;33m\u001b[0m\u001b[0m\n",
      "\u001b[1;31mFileNotFoundError\u001b[0m: [Errno 2] No such file or directory: 'C:/Python/새파일.txt'"
     ]
    }
   ],
   "source": [
    "# 파일에 새로운 내용 추가하기\n",
    "# adddata.py\n",
    "f = open('C:/Python/새파일.txt', 'a')\n",
    "for i in range(11, 20) :\n",
    "    data = '%d번째 줄입니다.\\n' % i\n",
    "    f.write(dat)\n",
    "f.close()\n",
    "\n",
    "# with문과 함께 사용하기\n",
    "# 지금 까지의 방식\n",
    "f = open('foo.txt', 'w')\n",
    "f.write('Life is too short, you need python')\n",
    "f.close()\n",
    "\n",
    "# with 블록을 벗어나는 순간 f가 자동으로 close()\n",
    "with open('foo.txt', 'w') as f :\n",
    "    f.write('Life is too short, you need python')"
   ]
  },
  {
   "cell_type": "code",
   "execution_count": null,
   "id": "e1be1d7a",
   "metadata": {},
   "outputs": [],
   "source": []
  }
 ],
 "metadata": {
  "kernelspec": {
   "display_name": "Python 3 (ipykernel)",
   "language": "python",
   "name": "python3"
  },
  "language_info": {
   "codemirror_mode": {
    "name": "ipython",
    "version": 3
   },
   "file_extension": ".py",
   "mimetype": "text/x-python",
   "name": "python",
   "nbconvert_exporter": "python",
   "pygments_lexer": "ipython3",
   "version": "3.9.7"
  }
 },
 "nbformat": 4,
 "nbformat_minor": 5
}
